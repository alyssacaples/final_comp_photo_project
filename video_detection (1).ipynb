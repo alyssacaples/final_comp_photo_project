{
 "cells": [
  {
   "cell_type": "code",
   "execution_count": 3,
   "id": "d3a5929e-50b8-4068-86be-cc24ba050238",
   "metadata": {},
   "outputs": [
    {
     "name": "stdout",
     "output_type": "stream",
     "text": [
      "Defaulting to user installation because normal site-packages is not writeable\n",
      "Collecting mtcnn\n",
      "  Downloading mtcnn-0.1.1-py3-none-any.whl (2.3 MB)\n",
      "\u001b[K     |████████████████████████████████| 2.3 MB 5.7 MB/s eta 0:00:01\n",
      "\u001b[?25hRequirement already satisfied: opencv-python>=4.1.0 in /home/cadames/.local/lib/python3.8/site-packages (from mtcnn) (4.6.0.66)\n",
      "Collecting keras>=2.0.0\n",
      "  Downloading keras-2.11.0-py2.py3-none-any.whl (1.7 MB)\n",
      "\u001b[K     |████████████████████████████████| 1.7 MB 121.4 MB/s eta 0:00:01\n",
      "\u001b[?25hRequirement already satisfied: numpy>=1.17.3; python_version >= \"3.8\" in /apps/jupyterhub/1.1.0/lib/python3.8/site-packages (from opencv-python>=4.1.0->mtcnn) (1.20.2)\n",
      "Installing collected packages: keras, mtcnn\n",
      "Successfully installed keras-2.11.0 mtcnn-0.1.1\n",
      "Note: you may need to restart the kernel to use updated packages.\n"
     ]
    }
   ],
   "source": [
    "pip install mtcnn"
   ]
  },
  {
   "cell_type": "code",
   "execution_count": 4,
   "id": "39140bf9-7838-42c9-a496-3df6c7296304",
   "metadata": {},
   "outputs": [
    {
     "name": "stdout",
     "output_type": "stream",
     "text": [
      "Defaulting to user installation because normal site-packages is not writeable\n",
      "Collecting tensorflow\n",
      "  Downloading tensorflow-2.11.0-cp38-cp38-manylinux_2_17_x86_64.manylinux2014_x86_64.whl (588.3 MB)\n",
      "\u001b[K     |████████████████▉               | 308.9 MB 79.2 MB/s eta 0:00:043                | 9.8 MB 6.0 MB/s eta 0:01:37                            | 18.1 MB 6.0 MB/s eta 0:01:36                      | 26.1 MB 6.0 MB/s eta 0:01:34                              | 33.7 MB 6.0 MB/s eta 0:01:33                      | 40.9 MB 6.0 MB/s eta 0:01:3249.1 MB 6.0 MB/s eta 0:01:30B 6.0 MB/s eta 0:01:26                        | 85.6 MB 6.0 MB/s eta 0:01:24B 6.0 MB/s eta 0:01:23         | 109.2 MB 6.0 MB/s eta 0:01:2098:00:0303[K     |████████▉                       | 162.6 MB 150.6 MB/s eta 0:00:03ta 0:00:03��▋                      | 177.1 MB 150.6 MB/s eta 0:00:03�████████                      | 183.8 MB 150.6 MB/s eta 0:00:03    | 191.4 MB 150.6 MB/s eta 0:00:03     |██████████▉                     | 198.7 MB 150.6 MB/s eta 0:00:03██                    | 221.2 MB 150.6 MB/s eta 0:00:03�████████▍                   | 228.4 MB 150.6 MB/s eta 0:00:030.6 MB/s eta 0:00:03��███████▎                  | 243.2 MB 150.6 MB/s eta 0:00:03██▋                  | 250.8 MB 150.6 MB/s eta 0:00:03��████████                  | 258.0 MB 150.6 MB/s eta 0:00:03    |██████████████▍                 | 265.5 MB 150.6 MB/s eta 0:00:03�█████████▉                 | 273.0 MB 79.2 MB/s eta 0:00:04/s eta 0:00:04/s eta 0:00:04/s eta 0:00:04�               | 301.9 MB 79.2 MB/s eta 0:00:04"
     ]
    },
    {
     "name": "stderr",
     "output_type": "stream",
     "text": [
      "IOPub data rate exceeded.\n",
      "The Jupyter server will temporarily stop sending output\n",
      "to the client in order to avoid crashing it.\n",
      "To change this limit, set the config variable\n",
      "`--ServerApp.iopub_data_rate_limit`.\n",
      "\n",
      "Current values:\n",
      "ServerApp.iopub_data_rate_limit=1000000.0 (bytes/sec)\n",
      "ServerApp.rate_limit_window=3.0 (secs)\n",
      "\n"
     ]
    },
    {
     "name": "stdout",
     "output_type": "stream",
     "text": [
      "\u001b[K     |████████████████████████████████| 588.3 MB 50 kB/s s eta 0:00:011     |██████████████████████████▋     | 488.9 MB 152.7 MB/s eta 0:00:01     |███████████████████████████     | 496.0 MB 152.7 MB/s eta 0:00:01|███████████████████████████▍    | 503.1 MB 152.7 MB/s eta 0:00:01███████▊    | 510.2 MB 152.7 MB/s eta 0:00:01    |████████████████████████████▏   | 517.2 MB 152.7 MB/s eta 0:00:01ta 0:00:017.0 MB/s eta 0:00:017.0 MB/s eta 0:00:01�█▎ | 557.3 MB 87.0 MB/s eta 0:00:01�█▋ | 563.7 MB 87.0 MB/s eta 0:00:01��███████████▍| 577.3 MB 87.0 MB/s eta 0:00:01��███████████▊| 584.0 MB 87.0 MB/s eta 0:00:01\n",
      "\u001b[?25hRequirement already satisfied: packaging in /apps/jupyterhub/1.1.0/lib/python3.8/site-packages (from tensorflow) (20.4)\n",
      "Requirement already satisfied: numpy>=1.20 in /apps/jupyterhub/1.1.0/lib/python3.8/site-packages (from tensorflow) (1.20.2)\n",
      "Collecting opt-einsum>=2.3.2\n",
      "  Downloading opt_einsum-3.3.0-py3-none-any.whl (65 kB)\n",
      "\u001b[K     |████████████████████████████████| 65 kB 1.9 MB/s  eta 0:00:01\n",
      "\u001b[?25hCollecting protobuf<3.20,>=3.9.2\n",
      "  Downloading protobuf-3.19.6-cp38-cp38-manylinux_2_17_x86_64.manylinux2014_x86_64.whl (1.1 MB)\n",
      "\u001b[K     |████████████████████████████████| 1.1 MB 114.5 MB/s eta 0:00:01\n",
      "\u001b[?25hCollecting libclang>=13.0.0\n",
      "  Downloading libclang-14.0.6-py2.py3-none-manylinux2010_x86_64.whl (14.1 MB)\n",
      "\u001b[K     |████████████████████████████████| 14.1 MB 109.7 MB/s eta 0:00:01B 109.7 MB/s eta 0:00:01��██▍       | 10.7 MB 109.7 MB/s eta 0:00:01\n",
      "\u001b[?25hCollecting gast<=0.4.0,>=0.2.1\n",
      "  Downloading gast-0.4.0-py3-none-any.whl (9.8 kB)\n",
      "Requirement already satisfied: setuptools in /apps/jupyterhub/1.1.0/lib/python3.8/site-packages (from tensorflow) (52.0.0.post20210125)\n",
      "Collecting absl-py>=1.0.0\n",
      "  Downloading absl_py-1.3.0-py3-none-any.whl (124 kB)\n",
      "\u001b[K     |████████████████████████████████| 124 kB 118.4 MB/s eta 0:00:01\n",
      "\u001b[?25hCollecting astunparse>=1.6.0\n",
      "  Downloading astunparse-1.6.3-py2.py3-none-any.whl (12 kB)\n",
      "Collecting flatbuffers>=2.0\n",
      "  Downloading flatbuffers-22.10.26-py2.py3-none-any.whl (26 kB)\n",
      "Collecting wrapt>=1.11.0\n",
      "  Downloading wrapt-1.14.1-cp38-cp38-manylinux_2_5_x86_64.manylinux1_x86_64.manylinux_2_17_x86_64.manylinux2014_x86_64.whl (81 kB)\n",
      "\u001b[K     |████████████████████████████████| 81 kB 5.1 MB/s s eta 0:00:01\n",
      "\u001b[?25hCollecting google-pasta>=0.1.1\n",
      "  Downloading google_pasta-0.2.0-py3-none-any.whl (57 kB)\n",
      "\u001b[K     |████████████████████████████████| 57 kB 1.9 MB/s  eta 0:00:01\n",
      "\u001b[?25hRequirement already satisfied: typing-extensions>=3.6.6 in /apps/jupyterhub/1.1.0/lib/python3.8/site-packages (from tensorflow) (3.7.4.3)\n",
      "Requirement already satisfied: keras<2.12,>=2.11.0 in /home/cadames/.local/lib/python3.8/site-packages (from tensorflow) (2.11.0)\n",
      "Collecting tensorflow-estimator<2.12,>=2.11.0\n",
      "  Downloading tensorflow_estimator-2.11.0-py2.py3-none-any.whl (439 kB)\n",
      "\u001b[K     |████████████████████████████████| 439 kB 118.4 MB/s eta 0:00:01\n",
      "\u001b[?25hCollecting grpcio<2.0,>=1.24.3\n",
      "  Downloading grpcio-1.51.0-cp38-cp38-manylinux_2_17_x86_64.manylinux2014_x86_64.whl (4.8 MB)\n",
      "\u001b[K     |████████████████████████████████| 4.8 MB 113.1 MB/s eta 0:00:01\n",
      "\u001b[?25hCollecting termcolor>=1.1.0\n",
      "  Downloading termcolor-2.1.1-py3-none-any.whl (6.2 kB)\n",
      "Collecting h5py>=2.9.0\n",
      "  Downloading h5py-3.7.0-cp38-cp38-manylinux_2_12_x86_64.manylinux2010_x86_64.whl (4.5 MB)\n",
      "\u001b[K     |████████████████████████████████| 4.5 MB 103.9 MB/s eta 0:00:01\n",
      "\u001b[?25hCollecting tensorboard<2.12,>=2.11\n",
      "  Downloading tensorboard-2.11.0-py3-none-any.whl (6.0 MB)\n",
      "\u001b[K     |████████████████████████████████| 6.0 MB 4.5 MB/s eta 0:00:01                    | 1.2 MB 4.5 MB/s eta 0:00:02\n",
      "\u001b[?25hCollecting tensorflow-io-gcs-filesystem>=0.23.1; platform_machine != \"arm64\" or platform_system != \"Darwin\"\n",
      "  Downloading tensorflow_io_gcs_filesystem-0.28.0-cp38-cp38-manylinux_2_12_x86_64.manylinux2010_x86_64.whl (2.4 MB)\n",
      "\u001b[K     |████████████████████████████████| 2.4 MB 116.2 MB/s eta 0:00:01\n",
      "\u001b[?25hRequirement already satisfied: six>=1.12.0 in /apps/jupyterhub/1.1.0/lib/python3.8/site-packages (from tensorflow) (1.14.0)\n",
      "Requirement already satisfied: pyparsing>=2.0.2 in /apps/jupyterhub/1.1.0/lib/python3.8/site-packages (from packaging->tensorflow) (2.4.7)\n",
      "Requirement already satisfied: wheel<1.0,>=0.23.0 in /apps/jupyterhub/1.1.0/lib/python3.8/site-packages (from astunparse>=1.6.0->tensorflow) (0.34.2)\n",
      "Collecting tensorboard-data-server<0.7.0,>=0.6.0\n",
      "  Downloading tensorboard_data_server-0.6.1-py3-none-manylinux2010_x86_64.whl (4.9 MB)\n",
      "\u001b[K     |████████████████████████████████| 4.9 MB 118.2 MB/s eta 0:00:01\n",
      "\u001b[?25hCollecting google-auth<3,>=1.6.3\n",
      "  Downloading google_auth-2.14.1-py2.py3-none-any.whl (175 kB)\n",
      "\u001b[K     |████████████████████████████████| 175 kB 123.4 MB/s eta 0:00:01\n",
      "\u001b[?25hCollecting google-auth-oauthlib<0.5,>=0.4.1\n",
      "  Downloading google_auth_oauthlib-0.4.6-py2.py3-none-any.whl (18 kB)\n",
      "Collecting werkzeug>=1.0.1\n",
      "  Downloading Werkzeug-2.2.2-py3-none-any.whl (232 kB)\n",
      "\u001b[K     |████████████████████████████████| 232 kB 124.2 MB/s eta 0:00:01\n",
      "\u001b[?25hCollecting tensorboard-plugin-wit>=1.6.0\n",
      "  Downloading tensorboard_plugin_wit-1.8.1-py3-none-any.whl (781 kB)\n",
      "\u001b[K     |████████████████████████████████| 781 kB 119.0 MB/s eta 0:00:01\n",
      "\u001b[?25hRequirement already satisfied: requests<3,>=2.21.0 in /apps/jupyterhub/1.1.0/lib/python3.8/site-packages (from tensorboard<2.12,>=2.11->tensorflow) (2.22.0)\n",
      "Collecting markdown>=2.6.8\n",
      "  Downloading Markdown-3.4.1-py3-none-any.whl (93 kB)\n",
      "\u001b[K     |████████████████████████████████| 93 kB 778 kB/s s eta 0:00:01\n",
      "\u001b[?25hCollecting rsa<5,>=3.1.4; python_version >= \"3.6\"\n",
      "  Downloading rsa-4.9-py3-none-any.whl (34 kB)\n",
      "Collecting cachetools<6.0,>=2.0.0\n",
      "  Downloading cachetools-5.2.0-py3-none-any.whl (9.3 kB)\n",
      "Collecting pyasn1-modules>=0.2.1\n",
      "  Downloading pyasn1_modules-0.2.8-py2.py3-none-any.whl (155 kB)\n",
      "\u001b[K     |████████████████████████████████| 155 kB 127.1 MB/s eta 0:00:01\n",
      "\u001b[?25hCollecting requests-oauthlib>=0.7.0\n",
      "  Downloading requests_oauthlib-1.3.1-py2.py3-none-any.whl (23 kB)\n",
      "Collecting MarkupSafe>=2.1.1\n",
      "  Downloading MarkupSafe-2.1.1-cp38-cp38-manylinux_2_17_x86_64.manylinux2014_x86_64.whl (25 kB)\n",
      "Requirement already satisfied: idna<2.9,>=2.5 in /apps/jupyterhub/1.1.0/lib/python3.8/site-packages (from requests<3,>=2.21.0->tensorboard<2.12,>=2.11->tensorflow) (2.8)\n",
      "Requirement already satisfied: urllib3!=1.25.0,!=1.25.1,<1.26,>=1.21.1 in /apps/jupyterhub/1.1.0/lib/python3.8/site-packages (from requests<3,>=2.21.0->tensorboard<2.12,>=2.11->tensorflow) (1.25.7)\n",
      "Requirement already satisfied: chardet<3.1.0,>=3.0.2 in /apps/jupyterhub/1.1.0/lib/python3.8/site-packages (from requests<3,>=2.21.0->tensorboard<2.12,>=2.11->tensorflow) (3.0.4)\n",
      "Requirement already satisfied: certifi>=2017.4.17 in /apps/jupyterhub/1.1.0/lib/python3.8/site-packages (from requests<3,>=2.21.0->tensorboard<2.12,>=2.11->tensorflow) (2021.10.8)\n",
      "Collecting importlib-metadata>=4.4; python_version < \"3.10\"\n",
      "  Downloading importlib_metadata-5.0.0-py3-none-any.whl (21 kB)\n",
      "Collecting pyasn1>=0.1.3\n",
      "  Downloading pyasn1-0.4.8-py2.py3-none-any.whl (77 kB)\n",
      "\u001b[K     |████████████████████████████████| 77 kB 3.2 MB/s s eta 0:00:01\n",
      "\u001b[?25hRequirement already satisfied: oauthlib>=3.0.0 in /apps/jupyterhub/1.1.0/lib/python3.8/site-packages (from requests-oauthlib>=0.7.0->google-auth-oauthlib<0.5,>=0.4.1->tensorboard<2.12,>=2.11->tensorflow) (3.0.1)\n",
      "Requirement already satisfied: zipp>=0.5 in /apps/jupyterhub/1.1.0/lib/python3.8/site-packages (from importlib-metadata>=4.4; python_version < \"3.10\"->markdown>=2.6.8->tensorboard<2.12,>=2.11->tensorflow) (2.2.0)\n",
      "Installing collected packages: opt-einsum, protobuf, libclang, gast, absl-py, astunparse, flatbuffers, wrapt, google-pasta, tensorflow-estimator, grpcio, termcolor, h5py, tensorboard-data-server, pyasn1, rsa, cachetools, pyasn1-modules, google-auth, requests-oauthlib, google-auth-oauthlib, MarkupSafe, werkzeug, tensorboard-plugin-wit, importlib-metadata, markdown, tensorboard, tensorflow-io-gcs-filesystem, tensorflow\n",
      "\u001b[33m  WARNING: The scripts pyrsa-decrypt, pyrsa-encrypt, pyrsa-keygen, pyrsa-priv2pub, pyrsa-sign and pyrsa-verify are installed in '/home/cadames/.local/bin' which is not on PATH.\n",
      "  Consider adding this directory to PATH or, if you prefer to suppress this warning, use --no-warn-script-location.\u001b[0m\n",
      "\u001b[33m  WARNING: The script google-oauthlib-tool is installed in '/home/cadames/.local/bin' which is not on PATH.\n",
      "  Consider adding this directory to PATH or, if you prefer to suppress this warning, use --no-warn-script-location.\u001b[0m\n",
      "\u001b[33m  WARNING: The script markdown_py is installed in '/home/cadames/.local/bin' which is not on PATH.\n",
      "  Consider adding this directory to PATH or, if you prefer to suppress this warning, use --no-warn-script-location.\u001b[0m\n",
      "\u001b[33m  WARNING: The script tensorboard is installed in '/home/cadames/.local/bin' which is not on PATH.\n",
      "  Consider adding this directory to PATH or, if you prefer to suppress this warning, use --no-warn-script-location.\u001b[0m\n",
      "\u001b[33m  WARNING: The scripts estimator_ckpt_converter, import_pb_to_tensorboard, saved_model_cli, tensorboard, tf_upgrade_v2, tflite_convert, toco and toco_from_protos are installed in '/home/cadames/.local/bin' which is not on PATH.\n",
      "  Consider adding this directory to PATH or, if you prefer to suppress this warning, use --no-warn-script-location.\u001b[0m\n",
      "Successfully installed MarkupSafe-2.1.1 absl-py-1.3.0 astunparse-1.6.3 cachetools-5.2.0 flatbuffers-22.10.26 gast-0.4.0 google-auth-2.14.1 google-auth-oauthlib-0.4.6 google-pasta-0.2.0 grpcio-1.51.0 h5py-3.7.0 importlib-metadata-5.0.0 libclang-14.0.6 markdown-3.4.1 opt-einsum-3.3.0 protobuf-3.19.6 pyasn1-0.4.8 pyasn1-modules-0.2.8 requests-oauthlib-1.3.1 rsa-4.9 tensorboard-2.11.0 tensorboard-data-server-0.6.1 tensorboard-plugin-wit-1.8.1 tensorflow-2.11.0 tensorflow-estimator-2.11.0 tensorflow-io-gcs-filesystem-0.28.0 termcolor-2.1.1 werkzeug-2.2.2 wrapt-1.14.1\n",
      "Note: you may need to restart the kernel to use updated packages.\n"
     ]
    }
   ],
   "source": [
    "pip install tensorflow"
   ]
  },
  {
   "cell_type": "code",
   "execution_count": 19,
   "id": "b026a2cb-df15-4862-b42d-97356faf107e",
   "metadata": {},
   "outputs": [
    {
     "name": "stdout",
     "output_type": "stream",
     "text": [
      "Defaulting to user installation because normal site-packages is not writeable\n",
      "Requirement already satisfied: pillow in /apps/jupyterhub/1.1.0/lib/python3.8/site-packages (8.1.0)\n",
      "Note: you may need to restart the kernel to use updated packages.\n"
     ]
    }
   ],
   "source": [
    ">>> pip install pillow"
   ]
  },
  {
   "cell_type": "code",
   "execution_count": 7,
   "id": "f336c133-4675-4437-9b6d-14f7c30d1dbe",
   "metadata": {},
   "outputs": [
    {
     "name": "stdout",
     "output_type": "stream",
     "text": [
      "1/1 [==============================] - 0s 242ms/step\n",
      "WARNING:tensorflow:5 out of the last 15 calls to <function Model.make_predict_function.<locals>.predict_function at 0x2b446a92d310> triggered tf.function retracing. Tracing is expensive and the excessive number of tracings could be due to (1) creating @tf.function repeatedly in a loop, (2) passing tensors with different shapes, (3) passing Python objects instead of tensors. For (1), please define your @tf.function outside of the loop. For (2), @tf.function has reduce_retracing=True option that can avoid unnecessary retracing. For (3), please refer to https://www.tensorflow.org/guide/function#controlling_retracing and https://www.tensorflow.org/api_docs/python/tf/function for  more details.\n",
      "1/1 [==============================] - 0s 90ms/step\n",
      "1/1 [==============================] - 0s 24ms/step\n",
      "1/1 [==============================] - 0s 22ms/step\n",
      "1/1 [==============================] - 0s 18ms/step\n",
      "1/1 [==============================] - 0s 17ms/step\n",
      "1/1 [==============================] - 0s 17ms/step\n",
      "1/1 [==============================] - 0s 16ms/step\n",
      "1/1 [==============================] - 0s 17ms/step\n",
      "1/1 [==============================] - 0s 16ms/step\n",
      "3/3 [==============================] - 0s 6ms/step\n",
      "1/1 [==============================] - 0s 98ms/step\n"
     ]
    },
    {
     "data": {
      "text/plain": [
       "array([[[ 49,  52,  57],\n",
       "        [ 49,  52,  57],\n",
       "        [ 49,  52,  57],\n",
       "        ...,\n",
       "        [ 54,  56,  68],\n",
       "        [ 54,  56,  68],\n",
       "        [ 54,  56,  68]],\n",
       "\n",
       "       [[ 51,  54,  59],\n",
       "        [ 51,  54,  59],\n",
       "        [ 51,  54,  59],\n",
       "        ...,\n",
       "        [ 51,  53,  65],\n",
       "        [ 51,  53,  65],\n",
       "        [ 51,  53,  65]],\n",
       "\n",
       "       [[ 51,  54,  59],\n",
       "        [ 51,  54,  59],\n",
       "        [ 51,  54,  59],\n",
       "        ...,\n",
       "        [ 48,  50,  62],\n",
       "        [ 48,  50,  62],\n",
       "        [ 48,  50,  62]],\n",
       "\n",
       "       ...,\n",
       "\n",
       "       [[ 68,  76,  55],\n",
       "        [ 48,  56,  35],\n",
       "        [ 55,  63,  42],\n",
       "        ...,\n",
       "        [115, 118,  99],\n",
       "        [115, 118,  99],\n",
       "        [116, 119, 100]],\n",
       "\n",
       "       [[ 72,  80,  59],\n",
       "        [ 54,  62,  41],\n",
       "        [ 55,  63,  42],\n",
       "        ...,\n",
       "        [115, 118,  99],\n",
       "        [115, 118,  99],\n",
       "        [116, 119, 100]],\n",
       "\n",
       "       [[ 76,  84,  63],\n",
       "        [ 59,  67,  46],\n",
       "        [ 56,  64,  43],\n",
       "        ...,\n",
       "        [115, 118,  99],\n",
       "        [115, 118,  99],\n",
       "        [116, 119, 100]]], dtype=uint8)"
      ]
     },
     "execution_count": 7,
     "metadata": {},
     "output_type": "execute_result"
    }
   ],
   "source": [
    "from mtcnn import MTCNN\n",
    ">>> import cv2\n",
    ">>>\n",
    ">>> img = cv2.cvtColor(cv2.imread(\"harrystyles_1.jpg\"), cv2.COLOR_BGR2RGB)\n",
    ">>> detector = MTCNN()\n",
    ">>> result=detector.detect_faces(img)\n",
    "bounding_box = result[0]['box']\n",
    "keypoints = result[0]['keypoints']\n",
    "cv2.rectangle(img,\n",
    "              (bounding_box[0], bounding_box[1]),\n",
    "              (bounding_box[0]+bounding_box[2], bounding_box[1] + bounding_box[3]),\n",
    "              (0,155,255),\n",
    "              2)"
   ]
  },
  {
   "cell_type": "code",
   "execution_count": 8,
   "id": "39944260-9cd7-4521-82a0-6d09f98f9e85",
   "metadata": {},
   "outputs": [
    {
     "name": "stdout",
     "output_type": "stream",
     "text": [
      "[{'box': [167, 169, 221, 299], 'confidence': 0.9983745813369751, 'keypoints': {'left_eye': (222, 291), 'right_eye': (328, 283), 'nose': (279, 344), 'mouth_left': (242, 402), 'mouth_right': (330, 393)}}]\n"
     ]
    }
   ],
   "source": [
    "cv2.circle(img,(keypoints['left_eye']), 2, (0,155,255), 2)\n",
    "cv2.circle(img,(keypoints['right_eye']), 2, (0,155,255), 2)\n",
    "cv2.circle(img,(keypoints['nose']), 2, (0,155,255), 2)\n",
    "cv2.circle(img,(keypoints['mouth_left']), 2, (0,155,255), 2)\n",
    "cv2.circle(img,(keypoints['mouth_right']), 2, (0,155,255), 2)\n",
    "\n",
    "cv2.imwrite(\"harrystyles_1.jpg\", cv2.cvtColor(img, cv2.COLOR_RGB2BGR))\n",
    "\n",
    "print(result)"
   ]
  },
  {
   "cell_type": "code",
   "execution_count": null,
   "id": "2db3d3cd-7c72-4f8e-807c-e9d07d30e65d",
   "metadata": {},
   "outputs": [],
   "source": []
  },
  {
   "cell_type": "code",
   "execution_count": null,
   "id": "90df4d90-2a14-49cd-b85b-e1f7766b1942",
   "metadata": {},
   "outputs": [],
   "source": [
    "\n"
   ]
  },
  {
   "cell_type": "code",
   "execution_count": 6,
   "id": "f94905eb-8dee-440f-819a-7c38d5fbfc64",
   "metadata": {},
   "outputs": [
    {
     "name": "stdout",
     "output_type": "stream",
     "text": [
      "[{'box': [167, 166, 224, 300], 'confidence': 0.9999802112579346, 'keypoints': {'left_eye': (223, 293), 'right_eye': (329, 284), 'nose': (276, 343), 'mouth_left': (241, 402), 'mouth_right': (328, 395)}}]\n"
     ]
    }
   ],
   "source": []
  },
  {
   "cell_type": "code",
   "execution_count": null,
   "id": "8d3b88ff-64d2-4ce9-ba90-6220752c7d3d",
   "metadata": {},
   "outputs": [],
   "source": []
  },
  {
   "cell_type": "code",
   "execution_count": 9,
   "id": "dd1381f3-c547-4aab-a0f1-0797b0dcff1e",
   "metadata": {},
   "outputs": [],
   "source": [
    "import time\n",
    "from PIL import Image\n",
    "from numpy import asarray"
   ]
  },
  {
   "cell_type": "markdown",
   "id": "2748b43c-5310-4eb0-82ce-9e93ad581e3f",
   "metadata": {},
   "source": [
    "def face_crop_in_video(cam_id, faces_folder_path, sleep_time):\n",
    "    video = cv2.VideoCapture(cam_id)\n",
    "    while True:\n",
    "        ret, img = video.read()\n",
    "        results = detector.detect_faces(img)\n",
    "        print(\"[PLEASE WAIT]\")\n",
    "        start_time = time.time()\n",
    "        for i in range(len(results[0:])):\n",
    "            face_array = crop(img, results, i)\n",
    "            cv2.imwrite(f\"{faces_folder_path}/{i}.jpg\", face_array)\n",
    "            time.sleep(int(sleep_time))\n",
    "        video.release()\n",
    "        print(f\"[FINISHED] [TIME: {time.time() - start_time :.2f} seconds]\")"
   ]
  },
  {
   "cell_type": "markdown",
   "id": "704ff566-9a33-4bbb-83a5-b673b628a4ae",
   "metadata": {},
   "source": [
    "def crop(img, results, face):\n",
    "    x1, y1, width, height = results[face][\"box\"]\n",
    "    x2, y2 = x1+width, y1+height\n",
    "    cropped_face = img[y1:y2, x1:x2]\n",
    "    face_image = Image.fromarray(cropped_face)\n",
    "    face_image = face_image.resize((224,224))\n",
    "    face_array = asarray(face_image)\n",
    "    return face_array"
   ]
  },
  {
   "cell_type": "code",
   "execution_count": 15,
   "id": "ae0cd266-dade-4990-b8c9-09d2bbdaf1d2",
   "metadata": {},
   "outputs": [
    {
     "ename": "FileNotFoundError",
     "evalue": "[Errno 2] No such file or directory: 'kang2400.jpg'",
     "output_type": "error",
     "traceback": [
      "\u001b[0;31m---------------------------------------------------------------------------\u001b[0m",
      "\u001b[0;31mFileNotFoundError\u001b[0m                         Traceback (most recent call last)",
      "\u001b[0;32m/scratch/local/52193800/ipykernel_39902/61008358.py\u001b[0m in \u001b[0;36m<module>\u001b[0;34m\u001b[0m\n\u001b[1;32m      2\u001b[0m \u001b[0;32mimport\u001b[0m \u001b[0mos\u001b[0m\u001b[0;34m\u001b[0m\u001b[0;34m\u001b[0m\u001b[0m\n\u001b[1;32m      3\u001b[0m \u001b[0;32mfor\u001b[0m \u001b[0mj\u001b[0m \u001b[0;32min\u001b[0m \u001b[0mrange\u001b[0m\u001b[0;34m(\u001b[0m\u001b[0;36m2400\u001b[0m\u001b[0;34m,\u001b[0m\u001b[0;36m2409\u001b[0m\u001b[0;34m)\u001b[0m\u001b[0;34m:\u001b[0m\u001b[0;34m\u001b[0m\u001b[0;34m\u001b[0m\u001b[0m\n\u001b[0;32m----> 4\u001b[0;31m     \u001b[0mos\u001b[0m\u001b[0;34m.\u001b[0m\u001b[0mremove\u001b[0m\u001b[0;34m(\u001b[0m\u001b[0;34m'kang'\u001b[0m\u001b[0;34m+\u001b[0m\u001b[0mstr\u001b[0m\u001b[0;34m(\u001b[0m\u001b[0mj\u001b[0m\u001b[0;34m)\u001b[0m\u001b[0;34m+\u001b[0m\u001b[0;34m'.jpg'\u001b[0m\u001b[0;34m)\u001b[0m\u001b[0;34m\u001b[0m\u001b[0;34m\u001b[0m\u001b[0m\n\u001b[0m",
      "\u001b[0;31mFileNotFoundError\u001b[0m: [Errno 2] No such file or directory: 'kang2400.jpg'"
     ]
    }
   ],
   "source": [
    "#face_crop_in_video(0,'blue_eel4930/cadames/vid.avi',2)\n",
    "import os\n",
    "for j in range(2409):\n",
    "    os.remove('kang'+str(j)+'.jpg')"
   ]
  },
  {
   "cell_type": "code",
   "execution_count": 18,
   "id": "de3089e8-4827-4d88-a1e8-e0a656683fba",
   "metadata": {},
   "outputs": [],
   "source": [
    "def crop(img, results, face):\n",
    "    x1, y1, width, height = results[face][\"box\"]\n",
    "    width2 = round(width * 1.6)\n",
    "    height2 = round(height * 1.6)\n",
    "    \n",
    "    x1 = round(x1 - (width2/6))\n",
    "    y1 = round(y1 - (height2/6))\n",
    "    x2, y2 = x1+width2, y1+height2\n",
    "    cropped_face = img[y1:y2, x1:x2]\n",
    "    face_image = Image.fromarray(cropped_face)\n",
    "    face_image = face_image.resize((224,224))\n",
    "    face_array = asarray(face_image)\n",
    "    return face_array"
   ]
  },
  {
   "cell_type": "code",
   "execution_count": 17,
   "id": "d7821081-7832-42c6-842e-e279a27bcd80",
   "metadata": {},
   "outputs": [
    {
     "name": "stdout",
     "output_type": "stream",
     "text": [
      "1/1 [==============================] - 0s 47ms/step\n",
      "1/1 [==============================] - 0s 33ms/step\n",
      "1/1 [==============================] - 0s 23ms/step\n",
      "1/1 [==============================] - 0s 20ms/step\n",
      "1/1 [==============================] - 0s 18ms/step\n",
      "1/1 [==============================] - 0s 17ms/step\n",
      "1/1 [==============================] - 0s 17ms/step\n",
      "1/1 [==============================] - 0s 17ms/step\n",
      "1/1 [==============================] - 0s 16ms/step\n",
      "1/1 [==============================] - 0s 16ms/step\n",
      "10/10 [==============================] - 0s 5ms/step\n",
      "1/1 [==============================] - 0s 39ms/step\n"
     ]
    },
    {
     "ename": "AttributeError",
     "evalue": "'numpy.ndarray' object has no attribute 'crop'",
     "output_type": "error",
     "traceback": [
      "\u001b[0;31m---------------------------------------------------------------------------\u001b[0m",
      "\u001b[0;31mAttributeError\u001b[0m                            Traceback (most recent call last)",
      "\u001b[0;32m/scratch/local/52193800/ipykernel_39902/3947289137.py\u001b[0m in \u001b[0;36m<module>\u001b[0;34m\u001b[0m\n\u001b[1;32m     10\u001b[0m     \u001b[0mkeypoints\u001b[0m \u001b[0;34m=\u001b[0m \u001b[0mresults\u001b[0m\u001b[0;34m[\u001b[0m\u001b[0;36m0\u001b[0m\u001b[0;34m]\u001b[0m\u001b[0;34m[\u001b[0m\u001b[0;34m'keypoints'\u001b[0m\u001b[0;34m]\u001b[0m\u001b[0;34m\u001b[0m\u001b[0;34m\u001b[0m\u001b[0m\n\u001b[1;32m     11\u001b[0m \u001b[0;34m\u001b[0m\u001b[0m\n\u001b[0;32m---> 12\u001b[0;31m     \u001b[0mcrop_im\u001b[0m \u001b[0;34m=\u001b[0m \u001b[0mimg\u001b[0m\u001b[0;34m.\u001b[0m\u001b[0mcrop\u001b[0m\u001b[0;34m(\u001b[0m\u001b[0;34m(\u001b[0m\u001b[0mbounding_box\u001b[0m\u001b[0;34m[\u001b[0m\u001b[0;36m0\u001b[0m\u001b[0;34m]\u001b[0m\u001b[0;34m,\u001b[0m \u001b[0mbounding_box\u001b[0m\u001b[0;34m[\u001b[0m\u001b[0;36m1\u001b[0m\u001b[0;34m]\u001b[0m\u001b[0;34m,\u001b[0m\u001b[0mbounding_box\u001b[0m\u001b[0;34m[\u001b[0m\u001b[0;36m0\u001b[0m\u001b[0;34m]\u001b[0m\u001b[0;34m+\u001b[0m\u001b[0mbounding_box\u001b[0m\u001b[0;34m[\u001b[0m\u001b[0;36m2\u001b[0m\u001b[0;34m]\u001b[0m\u001b[0;34m,\u001b[0m \u001b[0mbounding_box\u001b[0m\u001b[0;34m[\u001b[0m\u001b[0;36m1\u001b[0m\u001b[0;34m]\u001b[0m \u001b[0;34m+\u001b[0m \u001b[0mbounding_box\u001b[0m\u001b[0;34m[\u001b[0m\u001b[0;36m3\u001b[0m\u001b[0;34m]\u001b[0m \u001b[0;34m)\u001b[0m\u001b[0;34m)\u001b[0m\u001b[0;34m\u001b[0m\u001b[0;34m\u001b[0m\u001b[0m\n\u001b[0m\u001b[1;32m     13\u001b[0m     \u001b[0mcv2\u001b[0m\u001b[0;34m.\u001b[0m\u001b[0mimwrite\u001b[0m\u001b[0;34m(\u001b[0m\u001b[0;34m'kang'\u001b[0m\u001b[0;34m+\u001b[0m\u001b[0mstr\u001b[0m\u001b[0;34m(\u001b[0m\u001b[0mi\u001b[0m\u001b[0;34m)\u001b[0m\u001b[0;34m+\u001b[0m\u001b[0;34m'.jpg'\u001b[0m\u001b[0;34m,\u001b[0m \u001b[0mcv2\u001b[0m\u001b[0;34m.\u001b[0m\u001b[0mcvtColor\u001b[0m\u001b[0;34m(\u001b[0m\u001b[0mcrop_im\u001b[0m\u001b[0;34m,\u001b[0m \u001b[0mcv2\u001b[0m\u001b[0;34m.\u001b[0m\u001b[0mCOLOR_RGB2BGR\u001b[0m\u001b[0;34m)\u001b[0m\u001b[0;34m)\u001b[0m\u001b[0;34m\u001b[0m\u001b[0;34m\u001b[0m\u001b[0m\n\u001b[1;32m     14\u001b[0m     \u001b[0mi\u001b[0m\u001b[0;34m+=\u001b[0m\u001b[0;36m1\u001b[0m\u001b[0;34m\u001b[0m\u001b[0;34m\u001b[0m\u001b[0m\n",
      "\u001b[0;31mAttributeError\u001b[0m: 'numpy.ndarray' object has no attribute 'crop'"
     ]
    }
   ],
   "source": [
    "# Opens the Video file and detects the face\n",
    "cap= cv2.VideoCapture('vid.avi')\n",
    "i=0\n",
    "while(cap.isOpened()):\n",
    "    ret, img = cap.read()\n",
    "    if ret == False:\n",
    "        break\n",
    "    results=detector.detect_faces(img)\n",
    "    bounding_box = results[0]['box']\n",
    "    keypoints = results[0]['keypoints']\n",
    "    cv2.imwrite('kang'+str(i)+'.jpg', cv2.cvtColor(crop_im, cv2.COLOR_RGB2BGR))\n",
    "    i+=1\n",
    "cap.release()\n",
    "cv2.destroyAllWindows()"
   ]
  },
  {
   "cell_type": "code",
   "execution_count": 2,
   "id": "949a3a29-33fb-495a-ab28-5799534ca3b1",
   "metadata": {},
   "outputs": [
    {
     "ename": "NameError",
     "evalue": "name 'Image' is not defined",
     "output_type": "error",
     "traceback": [
      "\u001b[0;31m---------------------------------------------------------------------------\u001b[0m",
      "\u001b[0;31mNameError\u001b[0m                                 Traceback (most recent call last)",
      "\u001b[0;32m/scratch/local/52193800/ipykernel_39902/4117150756.py\u001b[0m in \u001b[0;36m<module>\u001b[0;34m\u001b[0m\n\u001b[1;32m      1\u001b[0m \u001b[0mpath\u001b[0m\u001b[0;34m=\u001b[0m\u001b[0;34m\"blue_eel4930/cadames/kang999.jpg\"\u001b[0m\u001b[0;34m\u001b[0m\u001b[0;34m\u001b[0m\u001b[0m\n\u001b[0;32m----> 2\u001b[0;31m \u001b[0mpil_im\u001b[0m \u001b[0;34m=\u001b[0m \u001b[0mImage\u001b[0m\u001b[0;34m.\u001b[0m\u001b[0mopen\u001b[0m\u001b[0;34m(\u001b[0m\u001b[0mpath\u001b[0m\u001b[0;34m)\u001b[0m\u001b[0;34m\u001b[0m\u001b[0;34m\u001b[0m\u001b[0m\n\u001b[0m\u001b[1;32m      3\u001b[0m \u001b[0mcrop_im\u001b[0m \u001b[0;34m=\u001b[0m \u001b[0mpil_im\u001b[0m\u001b[0;34m.\u001b[0m\u001b[0mcrop\u001b[0m\u001b[0;34m(\u001b[0m\u001b[0;34m(\u001b[0m\u001b[0mbounding_box\u001b[0m\u001b[0;34m[\u001b[0m\u001b[0;36m0\u001b[0m\u001b[0;34m]\u001b[0m\u001b[0;34m,\u001b[0m \u001b[0mbounding_box\u001b[0m\u001b[0;34m[\u001b[0m\u001b[0;36m1\u001b[0m\u001b[0;34m]\u001b[0m\u001b[0;34m,\u001b[0m\u001b[0mbounding_box\u001b[0m\u001b[0;34m[\u001b[0m\u001b[0;36m0\u001b[0m\u001b[0;34m]\u001b[0m\u001b[0;34m+\u001b[0m\u001b[0mbounding_box\u001b[0m\u001b[0;34m[\u001b[0m\u001b[0;36m2\u001b[0m\u001b[0;34m]\u001b[0m\u001b[0;34m,\u001b[0m \u001b[0mbounding_box\u001b[0m\u001b[0;34m[\u001b[0m\u001b[0;36m1\u001b[0m\u001b[0;34m]\u001b[0m \u001b[0;34m+\u001b[0m \u001b[0mbounding_box\u001b[0m\u001b[0;34m[\u001b[0m\u001b[0;36m3\u001b[0m\u001b[0;34m]\u001b[0m \u001b[0;34m)\u001b[0m\u001b[0;34m)\u001b[0m\u001b[0;34m\u001b[0m\u001b[0;34m\u001b[0m\u001b[0m\n\u001b[1;32m      4\u001b[0m \u001b[0mcrop_im\u001b[0m\u001b[0;34m.\u001b[0m\u001b[0mshow\u001b[0m\u001b[0;34m(\u001b[0m\u001b[0;34m)\u001b[0m\u001b[0;34m\u001b[0m\u001b[0;34m\u001b[0m\u001b[0m\n",
      "\u001b[0;31mNameError\u001b[0m: name 'Image' is not defined"
     ]
    }
   ],
   "source": [
    "path=\"blue_eel4930/cadames/kang999.jpg\"\n",
    "pil_im = Image.open(path)\n",
    "crop_im = pil_im.crop((bounding_box[0], bounding_box[1],bounding_box[0]+bounding_box[2], bounding_box[1] + bounding_box[3] ))\n",
    "crop_im.show()"
   ]
  },
  {
   "cell_type": "code",
   "execution_count": 39,
   "id": "5a7e2cee-11fe-4f1b-a759-45bbeffbc933",
   "metadata": {},
   "outputs": [],
   "source": []
  },
  {
   "cell_type": "code",
   "execution_count": 29,
   "id": "beed8d07-c736-4bc0-a826-16724f6dccc3",
   "metadata": {},
   "outputs": [
    {
     "name": "stdout",
     "output_type": "stream",
     "text": [
      "1/1 [==============================] - 0s 50ms/step\n",
      "1/1 [==============================] - 0s 29ms/step\n",
      "1/1 [==============================] - 0s 64ms/step\n",
      "1/1 [==============================] - 0s 39ms/step\n",
      "1/1 [==============================] - 0s 48ms/step\n",
      "1/1 [==============================] - 0s 63ms/step\n",
      "1/1 [==============================] - 0s 42ms/step\n",
      "1/1 [==============================] - 0s 49ms/step\n",
      "1/1 [==============================] - 0s 23ms/step\n",
      "1/1 [==============================] - 0s 16ms/step\n",
      "10/10 [==============================] - 0s 5ms/step\n",
      "1/1 [==============================] - 0s 40ms/step\n"
     ]
    }
   ],
   "source": []
  },
  {
   "cell_type": "code",
   "execution_count": 30,
   "id": "ec0cb8e6-a505-4d3d-87f6-876c7b754401",
   "metadata": {},
   "outputs": [],
   "source": []
  },
  {
   "cell_type": "code",
   "execution_count": 31,
   "id": "fdf8294e-7470-40ac-9871-588d9b9e8019",
   "metadata": {},
   "outputs": [],
   "source": []
  },
  {
   "cell_type": "code",
   "execution_count": 35,
   "id": "82d492b6-a428-4ac8-b8ab-f964dc362f32",
   "metadata": {},
   "outputs": [
    {
     "data": {
      "text/plain": [
       "array([[[131, 137, 149],\n",
       "        [132, 138, 150],\n",
       "        [136, 138, 148],\n",
       "        ...,\n",
       "        [121, 122, 136],\n",
       "        [114, 121, 137],\n",
       "        [114, 121, 137]],\n",
       "\n",
       "       [[134, 138, 150],\n",
       "        [134, 138, 150],\n",
       "        [134, 138, 150],\n",
       "        ...,\n",
       "        [118, 124, 137],\n",
       "        [116, 124, 137],\n",
       "        [115, 123, 136]],\n",
       "\n",
       "       [[133, 137, 149],\n",
       "        [134, 138, 150],\n",
       "        [134, 138, 150],\n",
       "        ...,\n",
       "        [116, 124, 137],\n",
       "        [117, 123, 136],\n",
       "        [118, 124, 137]],\n",
       "\n",
       "       ...,\n",
       "\n",
       "       [[127, 123, 136],\n",
       "        [121, 117, 130],\n",
       "        [108, 107, 120],\n",
       "        ...,\n",
       "        [ 57,  43,  38],\n",
       "        [ 58,  45,  38],\n",
       "        [ 59,  46,  39]],\n",
       "\n",
       "       [[105, 100, 115],\n",
       "        [ 95,  90, 105],\n",
       "        [ 87,  81,  99],\n",
       "        ...,\n",
       "        [ 53,  41,  38],\n",
       "        [ 57,  43,  38],\n",
       "        [ 58,  44,  39]],\n",
       "\n",
       "       [[ 89,  87,  93],\n",
       "        [ 90,  88,  94],\n",
       "        [ 97,  92,  94],\n",
       "        ...,\n",
       "        [ 47,  39,  37],\n",
       "        [ 50,  40,  37],\n",
       "        [ 52,  42,  39]]], dtype=uint8)"
      ]
     },
     "execution_count": 35,
     "metadata": {},
     "output_type": "execute_result"
    }
   ],
   "source": []
  },
  {
   "cell_type": "code",
   "execution_count": 33,
   "id": "12fecb3a-de4f-4224-981b-bbbf6ac6d41e",
   "metadata": {},
   "outputs": [],
   "source": []
  },
  {
   "cell_type": "code",
   "execution_count": 36,
   "id": "346e7c75-0276-4b06-997f-0ec9888d89df",
   "metadata": {},
   "outputs": [
    {
     "data": {
      "text/plain": [
       "(480, 640, 3)"
      ]
     },
     "execution_count": 36,
     "metadata": {},
     "output_type": "execute_result"
    }
   ],
   "source": []
  },
  {
   "cell_type": "code",
   "execution_count": 38,
   "id": "0b42a22e-c14e-4874-b076-66c6931f2155",
   "metadata": {},
   "outputs": [
    {
     "ename": "TypeError",
     "evalue": "can only concatenate str (not \"int\") to str",
     "output_type": "error",
     "traceback": [
      "\u001b[0;31m---------------------------------------------------------------------------\u001b[0m",
      "\u001b[0;31mTypeError\u001b[0m                                 Traceback (most recent call last)",
      "\u001b[0;32m/scratch/local/52176836/ipykernel_118199/3318807401.py\u001b[0m in \u001b[0;36m<module>\u001b[0;34m\u001b[0m\n\u001b[1;32m      1\u001b[0m \u001b[0;31m#for j in range(i):\u001b[0m\u001b[0;34m\u001b[0m\u001b[0;34m\u001b[0m\u001b[0;34m\u001b[0m\u001b[0m\n\u001b[0;32m----> 2\u001b[0;31m \u001b[0mcv2\u001b[0m\u001b[0;34m.\u001b[0m\u001b[0mimwrite\u001b[0m\u001b[0;34m(\u001b[0m\u001b[0;34m'kang'\u001b[0m\u001b[0;34m+\u001b[0m\u001b[0;36m1\u001b[0m\u001b[0;34m+\u001b[0m\u001b[0;34m'.jpg'\u001b[0m\u001b[0;34m,\u001b[0m \u001b[0mcv2\u001b[0m\u001b[0;34m.\u001b[0m\u001b[0mcvtColor\u001b[0m\u001b[0;34m(\u001b[0m\u001b[0mimg\u001b[0m\u001b[0;34m[\u001b[0m\u001b[0;34m:\u001b[0m\u001b[0;36m1\u001b[0m\u001b[0;34m:\u001b[0m\u001b[0;34m]\u001b[0m\u001b[0;34m,\u001b[0m \u001b[0mcv2\u001b[0m\u001b[0;34m.\u001b[0m\u001b[0mCOLOR_RGB2BGR\u001b[0m\u001b[0;34m)\u001b[0m\u001b[0;34m)\u001b[0m\u001b[0;34m\u001b[0m\u001b[0;34m\u001b[0m\u001b[0m\n\u001b[0m\u001b[1;32m      3\u001b[0m \u001b[0;31m#print(result)\u001b[0m\u001b[0;34m\u001b[0m\u001b[0;34m\u001b[0m\u001b[0;34m\u001b[0m\u001b[0m\n",
      "\u001b[0;31mTypeError\u001b[0m: can only concatenate str (not \"int\") to str"
     ]
    }
   ],
   "source": []
  },
  {
   "cell_type": "code",
   "execution_count": null,
   "id": "0e1b6a4f-aaf0-4c6d-b661-404cd17b4d0c",
   "metadata": {},
   "outputs": [],
   "source": []
  }
 ],
 "metadata": {
  "kernelspec": {
   "display_name": "Python 3 (ipykernel)",
   "language": "python",
   "name": "python3"
  },
  "language_info": {
   "codemirror_mode": {
    "name": "ipython",
    "version": 3
   },
   "file_extension": ".py",
   "mimetype": "text/x-python",
   "name": "python",
   "nbconvert_exporter": "python",
   "pygments_lexer": "ipython3",
   "version": "3.8.1"
  }
 },
 "nbformat": 4,
 "nbformat_minor": 5
}
