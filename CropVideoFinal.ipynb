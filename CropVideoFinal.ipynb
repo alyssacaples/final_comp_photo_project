{
 "cells": [
  {
   "cell_type": "code",
   "execution_count": null,
   "id": "3ec16cc3-f462-468e-8a24-fe50e3b08b19",
   "metadata": {},
   "outputs": [],
   "source": [
    "def crop(img, results, face):\n",
    "    x1, y1, width, height = results[face][\"box\"]\n",
    "    width2 = round(width * 1.6)\n",
    "    height2 = round(height * 1.6)\n",
    "    \n",
    "    x1 = round(x1 - (width2/6))\n",
    "    y1 = round(y1 - (height2/6))\n",
    "    x2, y2 = x1+width2, y1+height2\n",
    "    cropped_face = img[y1:y2, x1:x2]\n",
    "    face_image = Image.fromarray(cropped_face)\n",
    "    face_image = face_image.resize((224,224))\n",
    "    face_array = asarray(face_image)\n",
    "    return face_array\n",
    "\n",
    "def cooler_crop():\n",
    "    vidCap = cv2.VideoCapture('short.mp4')##enter name of video file you wish to convert\n",
    "    out_video = cv2.VideoWriter('out_video_name.mp4', cv2.VideoWriter_fourcc(*'mp4v'), 30, (224, 224))\n",
    "\n",
    "    length = int(vidCap.get(cv2.CAP_PROP_FRAME_COUNT))\n",
    "    for x in range(length):\n",
    "        ret, frame = vidCap.read()\n",
    "        if ret == True:\n",
    "            results = detector.detect_faces(frame)\n",
    "            bounding_box = results[0]['box']\n",
    "            keypoints = results[0]['keypoints']\n",
    "            face_array = crop(frame, results, 0)\n",
    "            out_video.write(face_array)\n",
    "            \n",
    "\n",
    "    out_video.release()\n",
    "    vidCap.release()\n",
    "    cv2.destroyAllWindows()"
   ]
  },
  {
   "cell_type": "code",
   "execution_count": null,
   "id": "49c1c4e3-1f2e-40d5-be40-6a599157d2f0",
   "metadata": {},
   "outputs": [],
   "source": [
    "def face_crop_in_image(faces_image_path, faces_folder_path):\n",
    "    img = cv2.imread(faces_image_path)\n",
    "    results = detector.detect_faces(img)\n",
    "    print(\"[PLEASE WAIT]\")\n",
    "    start_time = time.time()\n",
    "    for i in range(len(results[0:])):\n",
    "        face_array = crop(img, results, i)\n",
    "        cv2.imwrite(\"faces_folder_path.jpg\", face_array)\n",
    "    print(f\"[FINISHED] [TIME: {time.time() - start_time :.2f} seconds]\")\n",
    "\n",
    "cooler_crop()\n"
   ]
  }
 ],
 "metadata": {
  "kernelspec": {
   "display_name": "Python 3 (ipykernel)",
   "language": "python",
   "name": "python3"
  },
  "language_info": {
   "codemirror_mode": {
    "name": "ipython",
    "version": 3
   },
   "file_extension": ".py",
   "mimetype": "text/x-python",
   "name": "python",
   "nbconvert_exporter": "python",
   "pygments_lexer": "ipython3",
   "version": "3.8.1"
  }
 },
 "nbformat": 4,
 "nbformat_minor": 5
}
